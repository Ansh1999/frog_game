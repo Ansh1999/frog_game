{
 "cells": [
  {
   "cell_type": "code",
   "execution_count": 61,
   "id": "c07af7df",
   "metadata": {},
   "outputs": [
    {
     "name": "stdout",
     "output_type": "stream",
     "text": [
      "['G', 'G', 'G', '_', 'B', 'B', 'B']\n"
     ]
    }
   ],
   "source": [
    "positions = ['G', 'G', 'G', '_', 'B', 'B', 'B']\n",
    "print(positions)"
   ]
  },
  {
   "cell_type": "code",
   "execution_count": 8,
   "id": "d107d650",
   "metadata": {},
   "outputs": [
    {
     "name": "stdout",
     "output_type": "stream",
     "text": [
      "Enter any number : 2\n"
     ]
    }
   ],
   "source": [
    "user = int(input('Enter any number : '))\n",
    "\n",
    "if user<0 or user >6:\n",
    "    print('Invalid number (choose between 0 and 6)')\n",
    "\n",
    "elif user==positions.index('_'):\n",
    "    print('Invalid number 1')\n",
    "\n",
    "else:\n",
    "    if user==positions.index('_')-1 or user==positions.index('_')-2 or positions.index('_')+1 or user==positions.index('_')+2:\n",
    "        if positions[user]=='G' and positions.index('_')<user:\n",
    "            print('Invalid number 2')\n",
    "        elif positions[user]=='B' and positions.index('_')>user:\n",
    "            print('Invalid number 3')\n",
    "        else:\n",
    "            positions[user],positions[positions.index('_')] = positions[positions.index('_')],positions[user]\n",
    "\n",
    "    else:\n",
    "        print('Invalid number 4')"
   ]
  },
  {
   "cell_type": "code",
   "execution_count": 9,
   "id": "950a33fb",
   "metadata": {},
   "outputs": [
    {
     "data": {
      "text/plain": [
       "['G', 'G', 'G', '_', 'B', 'B', 'B']"
      ]
     },
     "execution_count": 9,
     "metadata": {},
     "output_type": "execute_result"
    }
   ],
   "source": [
    "positions"
   ]
  },
  {
   "cell_type": "code",
   "execution_count": 52,
   "id": "65d5e8cc",
   "metadata": {},
   "outputs": [
    {
     "name": "stdout",
     "output_type": "stream",
     "text": [
      "yes\n"
     ]
    }
   ],
   "source": [
    "a = [1,1,1,1,1,2]\n",
    "if (a[1] and a[2])==(1 or 2):\n",
    "    print(\"yes\")\n",
    "else:\n",
    "    print(\"no\")\n"
   ]
  },
  {
   "cell_type": "code",
   "execution_count": 59,
   "id": "936f8a18",
   "metadata": {},
   "outputs": [
    {
     "data": {
      "text/plain": [
       "1"
      ]
     },
     "execution_count": 59,
     "metadata": {},
     "output_type": "execute_result"
    }
   ],
   "source": [
    "a=[1,2,3,4,5,6]\n",
    "a[-6]"
   ]
  },
  {
   "cell_type": "code",
   "execution_count": 73,
   "id": "5d4ffa2f",
   "metadata": {
    "scrolled": false
   },
   "outputs": [
    {
     "name": "stdout",
     "output_type": "stream",
     "text": [
      "We are staring with ['G', 'G', 'G', '_', 'B', 'B', 'B'] positions.\n",
      "\n",
      "Enter any number: 4\n",
      "\n",
      "Updated positions: ['G', 'G', 'G', 'B', '_', 'B', 'B']\n",
      "\n",
      "Press 'q' to quit !!!\n",
      "Enter any number: 2\n",
      "\n",
      "Updated positions: ['G', 'G', '_', 'B', 'G', 'B', 'B']\n",
      "\n",
      "Press 'q' to quit !!!\n",
      "Enter any number: 3\n",
      "\n",
      "Updated positions: ['G', 'G', 'B', '_', 'G', 'B', 'B']\n",
      "\n",
      "Press 'q' to quit !!!\n",
      "Enter any number: 5\n",
      "\n",
      "Updated positions: ['G', 'G', 'B', 'B', 'G', '_', 'B']\n",
      "\n",
      "Press 'q' to quit !!!\n",
      "Enter any number: 4\n",
      "\n",
      "Updated positions: ['G', 'G', 'B', 'B', '_', 'G', 'B']\n",
      "\n",
      "Press 'q' to quit !!!\n",
      "Enter any number: 6\n",
      "\n",
      "Updated positions: ['G', 'G', 'B', 'B', 'B', 'G', '_']\n",
      "\n",
      "Press 'q' to quit !!!\n",
      "Enter any number: 5\n",
      "\n",
      "OOPS, You are stuck.\n",
      "Do you want to reset the game and start again ? [y/n]y\n",
      "\n",
      "We are starting again with ['G', 'G', 'G', '_', 'B', 'B', 'B'] positions !!!\n",
      "Enter any number: 4\n",
      "\n",
      "Updated positions: ['G', 'G', 'G', 'B', '_', 'B', 'B']\n",
      "\n",
      "Press 'q' to quit !!!\n",
      "Enter any number: 2\n",
      "\n",
      "Updated positions: ['G', 'G', '_', 'B', 'G', 'B', 'B']\n",
      "\n",
      "Press 'q' to quit !!!\n",
      "Enter any number: 1\n",
      "\n",
      "Updated positions: ['G', '_', 'G', 'B', 'G', 'B', 'B']\n",
      "\n",
      "Press 'q' to quit !!!\n",
      "Enter any number: 3\n",
      "\n",
      "Updated positions: ['G', 'B', 'G', '_', 'G', 'B', 'B']\n",
      "\n",
      "Press 'q' to quit !!!\n",
      "Enter any number: 5\n",
      "\n",
      "Updated positions: ['G', 'B', 'G', 'B', 'G', '_', 'B']\n",
      "\n",
      "Press 'q' to quit !!!\n",
      "Enter any number: 6\n",
      "\n",
      "Updated positions: ['G', 'B', 'G', 'B', 'G', 'B', '_']\n",
      "\n",
      "Press 'q' to quit !!!\n",
      "Enter any number: 4\n",
      "\n",
      "Updated positions: ['G', 'B', 'G', 'B', '_', 'B', 'G']\n",
      "\n",
      "Press 'q' to quit !!!\n",
      "Enter any number: 2\n",
      "\n",
      "Updated positions: ['G', 'B', '_', 'B', 'G', 'B', 'G']\n",
      "\n",
      "Press 'q' to quit !!!\n",
      "Enter any number: 0\n",
      "\n",
      "Updated positions: ['_', 'B', 'G', 'B', 'G', 'B', 'G']\n",
      "\n",
      "Press 'q' to quit !!!\n",
      "Enter any number: 1\n",
      "\n",
      "Updated positions: ['B', '_', 'G', 'B', 'G', 'B', 'G']\n",
      "\n",
      "Press 'q' to quit !!!\n",
      "Enter any number: 3\n",
      "\n",
      "Updated positions: ['B', 'B', 'G', '_', 'G', 'B', 'G']\n",
      "\n",
      "Press 'q' to quit !!!\n",
      "Enter any number: 5\n",
      "\n",
      "Updated positions: ['B', 'B', 'G', 'B', 'G', '_', 'G']\n",
      "\n",
      "Press 'q' to quit !!!\n",
      "Enter any number: 4\n",
      "\n",
      "Updated positions: ['B', 'B', 'G', 'B', '_', 'G', 'G']\n",
      "\n",
      "Press 'q' to quit !!!\n",
      "Enter any number: 2\n",
      "\n",
      "Updated positions: ['B', 'B', '_', 'B', 'G', 'G', 'G']\n",
      "\n",
      "Press 'q' to quit !!!\n",
      "Enter any number: 3\n",
      "\n",
      "Congratulations, You cracked the game !!!\n",
      "Final positions: ['B', 'B', 'B', '_', 'G', 'G', 'G']\n"
     ]
    }
   ],
   "source": [
    "positions = ['G', 'G', 'G', '_', 'B', 'B', 'B']\n",
    "print(f\"We are staring with {positions} positions.\\n\")\n",
    "\n",
    "while True:\n",
    "    user = input('Enter any number: ')\n",
    "\n",
    "    if user == 'q':\n",
    "        print(\"\\nYou have quitted !!!\")\n",
    "        break\n",
    "    elif int(user) < 0 or int(user) > 6:\n",
    "        print('\\nInvalid number (choose between 0 and 6)')\n",
    "        continue\n",
    "    elif int(user) == positions.index('_'):\n",
    "        print('\\nInvalid number. Choose again ! 1')\n",
    "        continue\n",
    "    elif 0 <= int(user) <= 6:\n",
    "        if int(user) == positions.index('_') - 1 or int(user) == positions.index('_') - 2 or int(user) == positions.index('_') + 1 or int(user) == positions.index('_') + 2:\n",
    "            if positions[int(user)] == 'G' and positions.index('_') < int(user):\n",
    "                print('\\nInvalid number. Choose again ! 2')\n",
    "                continue\n",
    "            elif positions[int(user)] == 'B' and positions.index('_') > int(user):\n",
    "                print('\\nInvalid number. Choose again ! 3')\n",
    "                continue\n",
    "            else:\n",
    "                empty_position = positions.index('_')\n",
    "                positions[int(user)], positions[empty_position] = positions[empty_position], positions[int(user)]\n",
    "\n",
    "        else:\n",
    "            print('\\nInvalid number. Choose again ! 4')\n",
    "            continue\n",
    "            \n",
    "    if positions.index('_')==3 and positions[0] =='B' and positions[1] =='B' and positions[2] == 'B':\n",
    "        print(\"\\nCongratulations, You cracked the game !!!\")\n",
    "        print(\"Final positions:\", positions)\n",
    "        break\n",
    "    elif positions.index('_')==0 and positions[1]=='G' and positions[2]=='G':\n",
    "        print(\"\\nOOPS, You are stuck. Start the game again !!!\")\n",
    "        answer = input(\"Do you want to reset the game and start again ? [y/n]\")\n",
    "        if answer == 'y':\n",
    "            positions = ['G', 'G', 'G', '_', 'B', 'B', 'B']\n",
    "            print(f\"\\nWe are starting again with {positions} positions !!!\")\n",
    "            continue\n",
    "        else:\n",
    "            print(\"\\nYou have quitted !!!\")\n",
    "            break\n",
    "    elif positions.index('_')==6 and positions[-2]=='B' and positions[-3]=='B':\n",
    "        print(\"\\nOOPS, You are stuck.\")\n",
    "        answer = input(\"Do you want to reset the game and start again ? [y/n]\")\n",
    "        if answer == 'y':\n",
    "            positions = ['G', 'G', 'G', '_', 'B', 'B', 'B']\n",
    "            print(f\"\\nWe are starting again with {positions} positions !!!\")\n",
    "            continue\n",
    "        else:\n",
    "            print(\"\\nYou have quitted !!!\")\n",
    "            break\n",
    "    elif positions.index('_')==1 and positions[0]=='B' and positions[2]=='G' and positions[3]=='G':\n",
    "        print(\"\\nOOPS, You are stuck.\")\n",
    "        answer = input(\"Do you want to reset the game and start again ? [y/n]\")\n",
    "        if answer == 'y':\n",
    "            positions = ['G', 'G', 'G', '_', 'B', 'B', 'B']\n",
    "            print(f\"\\nWe are starting again with {positions} positions !!!\")\n",
    "            continue\n",
    "        else:\n",
    "            print(\"\\nYou have quitted !!!\")\n",
    "            break\n",
    "    elif positions.index('_')==5 and positions[-1]=='G' and positions[-3]=='B' and positions[-4]=='B':\n",
    "        print(\"\\nOOPS, You are stuck.\")\n",
    "        answer = input(\"Do you want to reset the game and start again ? [y/n]\")\n",
    "        if answer == 'y':\n",
    "            positions = ['G', 'G', 'G', '_', 'B', 'B', 'B']\n",
    "            print(f\"\\nWe are starting again with {positions} positions !!!\")\n",
    "            continue\n",
    "        else:\n",
    "            print(\"\\nYou have quitted !!!\")\n",
    "            break\n",
    "    elif positions.index('_')==2 and positions[0]=='B' and positions[1]=='B' and positions[3]=='G' and positions[4]=='G':\n",
    "        print(\"\\nOOPS, You are stuck.\")\n",
    "        answer = input(\"Do you want to reset the game and start again ? [y/n]\")\n",
    "        if answer == 'y':\n",
    "            positions = ['G', 'G', 'G', '_', 'B', 'B', 'B']\n",
    "            print(f\"\\nWe are starting again with {positions} positions !!!\")\n",
    "            continue\n",
    "        else:\n",
    "            print(\"\\nYou have quitted !!!\")\n",
    "            break\n",
    "    elif positions.index('_')==4 and positions[2]=='B' and positions[3]=='B' and positions[5]=='G' and positions[6]=='G':\n",
    "        print(\"\\nOOPS, You are stuck.\")\n",
    "        answer = input(\"Do you want to reset the game and start again ? [y/n]\")\n",
    "        if answer == 'y':\n",
    "            positions = ['G', 'G', 'G', '_', 'B', 'B', 'B']\n",
    "            print(f\"\\nWe are starting again with {positions} positions !!!\")\n",
    "            continue\n",
    "        else:\n",
    "            print(\"\\nYou have quitted !!!\")\n",
    "            break\n",
    "\n",
    "    print(\"\\nUpdated positions:\", positions)\n",
    "    print(\"\\nPress 'q' to quit !!!\")"
   ]
  }
 ],
 "metadata": {
  "kernelspec": {
   "display_name": "Python 3 (ipykernel)",
   "language": "python",
   "name": "python3"
  },
  "language_info": {
   "codemirror_mode": {
    "name": "ipython",
    "version": 3
   },
   "file_extension": ".py",
   "mimetype": "text/x-python",
   "name": "python",
   "nbconvert_exporter": "python",
   "pygments_lexer": "ipython3",
   "version": "3.9.13"
  }
 },
 "nbformat": 4,
 "nbformat_minor": 5
}
